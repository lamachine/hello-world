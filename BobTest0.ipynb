{
  "nbformat": 4,
  "nbformat_minor": 0,
  "metadata": {
    "colab": {
      "name": "BobTest0.ipynb",
      "provenance": [],
      "authorship_tag": "ABX9TyO67vszX44KUnR1KNwdJCva",
      "include_colab_link": true
    },
    "kernelspec": {
      "name": "python3",
      "display_name": "Python 3"
    }
  },
  "cells": [
    {
      "cell_type": "markdown",
      "metadata": {
        "id": "view-in-github",
        "colab_type": "text"
      },
      "source": [
        "<a href=\"https://colab.research.google.com/github/lamachine/hello-world/blob/master/BobTest0.ipynb\" target=\"_parent\"><img src=\"https://colab.research.google.com/assets/colab-badge.svg\" alt=\"Open In Colab\"/></a>"
      ]
    },
    {
      "cell_type": "code",
      "metadata": {
        "id": "KLcO3W8jW2Xd"
      },
      "source": [
        "# first code block"
      ],
      "execution_count": null,
      "outputs": []
    },
    {
      "cell_type": "markdown",
      "metadata": {
        "id": "W6dIZhfMW4bf"
      },
      "source": [
        "This is the first time practicing in colab"
      ]
    },
    {
      "cell_type": "code",
      "metadata": {
        "id": "2PsJjM2dXF-n",
        "outputId": "ebb125ac-3798-4ed5-d99b-595eb180bfd4",
        "colab": {
          "base_uri": "https://localhost:8080/"
        }
      },
      "source": [
        "print(\"Hello world\")"
      ],
      "execution_count": null,
      "outputs": [
        {
          "output_type": "stream",
          "text": [
            "Hello world\n"
          ],
          "name": "stdout"
        }
      ]
    }
  ]
}